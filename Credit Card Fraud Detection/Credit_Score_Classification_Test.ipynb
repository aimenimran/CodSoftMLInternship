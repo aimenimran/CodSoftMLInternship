{
  "nbformat": 4,
  "nbformat_minor": 0,
  "metadata": {
    "colab": {
      "provenance": []
    },
    "kernelspec": {
      "name": "python3",
      "display_name": "Python 3"
    },
    "language_info": {
      "name": "python"
    }
  },
  "cells": [
    {
      "cell_type": "markdown",
      "source": [
        "## Model Testing on Test Dataset"
      ],
      "metadata": {
        "id": "xWRM00dXqpk1"
      }
    },
    {
      "cell_type": "code",
      "source": [
        "import pandas as pd\n",
        "import numpy as np\n",
        "from sklearn.preprocessing import StandardScaler\n",
        "\n",
        "# Load the test data\n",
        "df_test = pd.read_csv(\"credit_test.csv\")"
      ],
      "metadata": {
        "id": "ABOizjVRqjKx"
      },
      "execution_count": null,
      "outputs": []
    },
    {
      "cell_type": "code",
      "execution_count": null,
      "metadata": {
        "id": "0rrgExm8CR-D"
      },
      "outputs": [],
      "source": [
        "# Preprocess the test data\n",
        "# Drop unnecessary columns\n",
        "df_test.drop([\"ID\",\"Customer_ID\",\"Name\",\"SSN\",\"Type_of_Loan\"],axis=1,inplace=True)\n",
        "\n",
        "# Encode categorical features\n",
        "month_mapping = {\n",
        "   'January': 1,\n",
        "    'February': 2,\n",
        "    'March': 3,\n",
        "    \"April\":4,\n",
        "    \"May\":5,\n",
        "    \"June\":6,\n",
        "    \"July\":7,\n",
        "    \"August\":8,\n",
        "    \"September\":9,\n",
        "    \"October\":10,\n",
        "    \"November\":11,\n",
        "    \"December\":12}\n",
        "df_test['Month'] = df_test['Month'].replace(month_mapping)\n",
        "#df_test['Month'] = df_test['Month'].astype('int')\n",
        "\n",
        "\n",
        "df_test.drop(df_test[df_test[\"Occupation\"]=='_______'].index,inplace=True)\n",
        "df_test.drop(df_test[df_test[\"Credit_Mix\"]=='_'].index,inplace=True)\n",
        "\n",
        "\n",
        "#df_test['Occupation'] = df_test['Occupation'].astype('int')\n",
        "occupation_mapping = {\n",
        "    'Lawyer': 1,\n",
        "    'Architect': 2,\n",
        "    'Engineer': 3,\n",
        "    'Scientist': 4,\n",
        "    'Mechanic': 5,\n",
        "    'Accountant': 6,\n",
        "    'Developer': 7,\n",
        "    'Media_Manager': 8,\n",
        "    'Teacher': 9,\n",
        "    'Entrepreneur': 10,\n",
        "    'Doctor': 11,\n",
        "    'Journalist': 12,\n",
        "    'Manager': 13,\n",
        "    'Musician': 14,\n",
        "    'Writer': 15,\n",
        "    'Scientist': 16\n",
        "}\n",
        "df_test['Occupation'] = df_test['Occupation'].replace(occupation_mapping)\n",
        "\n",
        "#df_test['Credit_Mix'] = df_test['Credit_Mix'].astype('int')\n",
        "credit_map={\"Good\":1,\"Standard\":2,\"Bad\":3}\n",
        "df_test['Credit_Mix'] = df_test['Credit_Mix'].replace(credit_map)\n",
        "\n",
        "df_test['Payment_Behaviour']= df_test['Payment_Behaviour'].replace(\"!@9#%8\",np.nan)\n",
        "category_mapping = {\n",
        "    'Low_spent_Small_value_payments':1,\n",
        "    'High_spent_Medium_value_payments':2,\n",
        "    'Low_spent_Medium_value_payments': 3,\n",
        "    'High_spent_Large_value_payments': 4,\n",
        "    'High_spent_Small_value_payments': 5,\n",
        "    'Low_spent_Large_value_payments': 6\n",
        "}\n",
        "df_test['Payment_Behaviour'] = df_test['Payment_Behaviour'].replace(category_mapping)\n",
        "\n",
        "pay_map={\"Yes\":1,\"No\":2,\"NM\":3}\n",
        "df_test['Payment_of_Min_Amount'] = df_test['Payment_of_Min_Amount'].replace(pay_map)\n",
        "\n",
        "\n",
        "\n",
        "# Handle missing values\n",
        "mean_salary = df_test[\"Monthly_Inhand_Salary\"].mean()\n",
        "df_test[\"Monthly_Inhand_Salary\"].fillna(mean_salary, inplace=True)\n",
        "df_test[\"Num_of_Delayed_Payment\"] = pd.to_numeric(df_test[\"Num_of_Delayed_Payment\"], errors=\"coerce\")\n",
        "n_mean=df_test[\"Num_of_Delayed_Payment\"].mean()\n",
        "df_test[\"Num_of_Delayed_Payment\"].fillna(n_mean, inplace=True)\n",
        "in_mean=df_test[\"Num_Credit_Inquiries\"].mean()\n",
        "df_test[\"Num_Credit_Inquiries\"].fillna(in_mean, inplace=True)\n",
        "df_test['Credit_History_Age'] = df_test['Credit_History_Age'].str.extract(r'(\\d+)')\n",
        "df_test[\"Credit_History_Age\"] = pd.to_numeric(df_test[\"Credit_History_Age\"], errors=\"coerce\")\n",
        "credit_mean=df_test[\"Credit_History_Age\"].mean()\n",
        "df_test[\"Credit_History_Age\"].fillna(credit_mean, inplace=True)\n",
        "df_test[\"Amount_invested_monthly\"] = pd.to_numeric(df_test[\"Amount_invested_monthly\"], errors=\"coerce\")\n",
        "invest_mean=df_test[\"Amount_invested_monthly\"].mean()\n",
        "df_test[\"Amount_invested_monthly\"].fillna(invest_mean, inplace=True)\n",
        "df_test.dropna(subset=[\"Payment_Behaviour\"], inplace=True)\n",
        "df_test[\"Monthly_Balance\"] = pd.to_numeric(df_test[\"Monthly_Balance\"], errors=\"coerce\")\n",
        "month_mean=df_test[\"Monthly_Balance\"].mean()\n",
        "df_test[\"Monthly_Balance\"].fillna(month_mean, inplace=True)\n",
        "\n",
        "\n",
        "df_test[\"Annual_Income\"] = pd.to_numeric(df_test[\"Annual_Income\"], errors=\"coerce\")\n",
        "an_mean=df_test[\"Annual_Income\"].mean()\n",
        "df_test[\"Annual_Income\"].fillna(an_mean, inplace=True)\n",
        "df_test['Outstanding_Debt'] = pd.to_numeric(df_test['Outstanding_Debt'].str.replace(r'[^0-9.]', '', regex=True), errors='coerce')\n",
        "df_test['Changed_Credit_Limit'] = df_test['Changed_Credit_Limit'].replace('_',np.nan)  # Replace '_' with 0\n",
        "df_test[\"Changed_Credit_Limit\"] = pd.to_numeric(df_test[\"Changed_Credit_Limit\"], errors=\"coerce\")\n",
        "c_mean=df_test[\"Changed_Credit_Limit\"].mean()\n",
        "df_test[\"Changed_Credit_Limit\"].fillna(c_mean, inplace=True)\n",
        "df_test['Age'] = df_test['Age'].replace('-500',np.nan)\n",
        "df_test[\"Age\"] = pd.to_numeric(df_test[\"Age\"], errors=\"coerce\")\n",
        "age_mean=df_test[\"Age\"].mean()\n",
        "df_test[\"Age\"].fillna(age_mean, inplace=True)\n",
        "df_test[\"Num_of_Loan\"] = pd.to_numeric(df_test[\"Num_of_Loan\"], errors=\"coerce\")\n",
        "num_mean=df_test[\"Num_of_Loan\"].mean()\n",
        "df_test[\"Num_of_Loan\"].fillna(num_mean, inplace=True)\n",
        "df_test['Delay_from_due_date'] = df_test['Delay_from_due_date'].abs()\n",
        "\n",
        "\n",
        "# Scale numerical features\n",
        "columns_to_scale = ['Age', 'Annual_Income', 'Monthly_Inhand_Salary', 'Outstanding_Debt',\n",
        "                   'Credit_Utilization_Ratio', 'Credit_History_Age', 'Total_EMI_per_month',\n",
        "                   'Amount_invested_monthly', 'Monthly_Balance']\n",
        "scaler = StandardScaler()\n",
        "df_test[columns_to_scale] = scaler.fit_transform(df_test[columns_to_scale])\n",
        "\n",
        "# Separate features and target\n",
        "X_test = df_test.copy()\n"
      ]
    },
    {
      "cell_type": "code",
      "source": [
        "from lightgbm import LGBMClassifier\n",
        "import joblib\n",
        "\n",
        "# Load the trained LightGBM model\n",
        "lgb_classifier = LGBMClassifier(\n",
        "    boosting_type='gbdt',\n",
        "    num_leaves=31,\n",
        "    max_depth=-1,\n",
        "    learning_rate=0.1,\n",
        "    n_estimators=100,\n",
        "    random_state=42,\n",
        "    objective='multiclass',\n",
        "    metric='multi_logloss'\n",
        ")"
      ],
      "metadata": {
        "id": "k98FId0wnT41"
      },
      "execution_count": null,
      "outputs": []
    },
    {
      "cell_type": "code",
      "source": [
        "# Load the saved model from the specified path\n",
        "model_path = '/content/lgb_model.pkl'\n",
        "lgb_classifier = joblib.load(model_path)"
      ],
      "metadata": {
        "id": "z9_W1iZNn2ff"
      },
      "execution_count": null,
      "outputs": []
    },
    {
      "cell_type": "code",
      "source": [
        "# Make predictions on the test set\n",
        "predicted_credit_scores = lgb_classifier.predict(X_test)"
      ],
      "metadata": {
        "id": "ki4eOBVPn_MX"
      },
      "execution_count": null,
      "outputs": []
    },
    {
      "cell_type": "code",
      "source": [
        "# Print the first 100 predicted credit scores in the form of an array\n",
        "print(\"Predicted Credit Scores:\")\n",
        "print(\"[\", end=\"\")\n",
        "\n",
        "for i in range(min(100, len(predicted_credit_scores))):\n",
        "    if i > 0:\n",
        "        print(\", \", end=\"\")\n",
        "    print(predicted_credit_scores[i], end=\"\")\n",
        "\n",
        "    # Add line break after every 10 scores\n",
        "    if (i + 1) % 10 == 0:\n",
        "        print(\"\\n\", end=\"\")\n",
        "\n",
        "print(\"]\")"
      ],
      "metadata": {
        "colab": {
          "base_uri": "https://localhost:8080/"
        },
        "id": "4SAR0KYXoC-G",
        "outputId": "135a3108-3096-44b7-c68b-9db57346a4f4"
      },
      "execution_count": null,
      "outputs": [
        {
          "output_type": "stream",
          "name": "stdout",
          "text": [
            "Predicted Credit Scores:\n",
            "[0.0, 0.0, 0.0, 0.0, 2.0, 0.0, 0.0, 0.0, 2.0, 0.0\n",
            ", 0.0, 0.0, 0.0, 0.0, 0.0, 2.0, 2.0, 2.0, 2.0, 2.0\n",
            ", 2.0, 2.0, 1.0, 1.0, 1.0, 0.0, 0.0, 0.0, 0.0, 0.0\n",
            ", 0.0, 0.0, 2.0, 0.0, 0.0, 0.0, 1.0, 1.0, 0.0, 0.0\n",
            ", 0.0, 0.0, 0.0, 0.0, 0.0, 0.0, 0.0, 2.0, 2.0, 2.0\n",
            ", 1.0, 1.0, 1.0, 0.0, 0.0, 0.0, 1.0, 1.0, 1.0, 2.0\n",
            ", 2.0, 2.0, 0.0, 0.0, 0.0, 0.0, 1.0, 1.0, 1.0, 0.0\n",
            ", 0.0, 0.0, 0.0, 1.0, 1.0, 1.0, 1.0, 0.0, 0.0, 0.0\n",
            ", 0.0, 0.0, 1.0, 1.0, 1.0, 0.0, 0.0, 1.0, 0.0, 0.0\n",
            ", 0.0, 0.0, 0.0, 0.0, 0.0, 0.0, 0.0, 1.0, 0.0, 1.0\n",
            "]\n"
          ]
        }
      ]
    },
    {
      "cell_type": "code",
      "source": [
        "# Add the predicted credit scores to the test data\n",
        "df_test[\"Credit_Score\"] = predicted_credit_scores\n",
        "\n",
        "# Save the updated test data to the same CSV file\n",
        "df_test.to_csv(\"testing.csv\", index=False)\n",
        "\n",
        "print(\"Predicted Credit Scores added to test.csv\")"
      ],
      "metadata": {
        "colab": {
          "base_uri": "https://localhost:8080/"
        },
        "id": "QbrCRT38pG3M",
        "outputId": "e7c20822-62b7-45f2-c3d7-0c92f0b2c20a"
      },
      "execution_count": null,
      "outputs": [
        {
          "output_type": "stream",
          "name": "stdout",
          "text": [
            "Predicted Credit Scores added to test.csv\n"
          ]
        }
      ]
    },
    {
      "cell_type": "code",
      "source": [
        "import matplotlib.pyplot as plt\n",
        "import seaborn as sns\n",
        "\n",
        "# Create a count plot with custom x-tick labels\n",
        "plt.figure(figsize=(6, 5))\n",
        "sns.countplot(x=predicted_credit_scores, data=df_test, palette=\"hot\")\n",
        "plt.title('Count of Predicted Credit Scores')\n",
        "plt.xlabel('Credit Score')\n",
        "plt.ylabel('Count')\n",
        "plt.xticks(ticks=[0, 1, 2], labels=['Standard', 'Poor', 'Good'])\n",
        "\n",
        "plt.show()"
      ],
      "metadata": {
        "colab": {
          "base_uri": "https://localhost:8080/",
          "height": 574
        },
        "id": "SIXsV0civunN",
        "outputId": "92070877-c1ad-484b-bc17-3563792b5a00"
      },
      "execution_count": null,
      "outputs": [
        {
          "output_type": "stream",
          "name": "stderr",
          "text": [
            "<ipython-input-12-7c0e9c128f74>:6: FutureWarning: \n",
            "\n",
            "Passing `palette` without assigning `hue` is deprecated and will be removed in v0.14.0. Assign the `x` variable to `hue` and set `legend=False` for the same effect.\n",
            "\n",
            "  sns.countplot(x=predicted_credit_scores, data=df_test, palette=\"hot\")\n"
          ]
        },
        {
          "output_type": "display_data",
          "data": {
            "text/plain": [
              "<Figure size 600x500 with 1 Axes>"
            ],
            "image/png": "[encoded data removed]"
          },
          "metadata": {}
        }
      ]
    }
  ]
}